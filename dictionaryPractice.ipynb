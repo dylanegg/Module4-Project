{
 "cells": [
  {
   "cell_type": "code",
   "execution_count": 1,
   "id": "faa99497-ef17-482d-9779-3b6bf9098be0",
   "metadata": {},
   "outputs": [
    {
     "data": {
      "text/plain": [
       "{'Finland': 'fi', 'South Africa': 'za', 'Nepal': 'np'}"
      ]
     },
     "execution_count": 1,
     "metadata": {},
     "output_type": "execute_result"
    }
   ],
   "source": [
    "country_codes = {'Finland': 'fi', 'South Africa': 'za', 'Nepal': 'np'}\n",
    "country_codes"
   ]
  },
  {
   "cell_type": "code",
   "execution_count": 2,
   "id": "e5f54e76-be8e-4f81-aa40-dc208b579174",
   "metadata": {},
   "outputs": [
    {
     "data": {
      "text/plain": [
       "3"
      ]
     },
     "execution_count": 2,
     "metadata": {},
     "output_type": "execute_result"
    }
   ],
   "source": [
    "len(country_codes)"
   ]
  },
  {
   "cell_type": "code",
   "execution_count": 3,
   "id": "4eca751d-890e-4497-bdda-bdd55590d5ec",
   "metadata": {},
   "outputs": [
    {
     "name": "stdout",
     "output_type": "stream",
     "text": [
      "country_codes is not empty\n"
     ]
    }
   ],
   "source": [
    "if country_codes:\n",
    "    print('country_codes is not empty')\n",
    "else:\n",
    "    print('country_codes is empty')"
   ]
  },
  {
   "cell_type": "code",
   "execution_count": 4,
   "id": "17c31f30-d4c1-4941-bec7-e1690223c232",
   "metadata": {},
   "outputs": [
    {
     "name": "stdout",
     "output_type": "stream",
     "text": [
      "country_codes is empty\n"
     ]
    }
   ],
   "source": [
    "country_codes.clear()\n",
    "\n",
    "if country_codes:\n",
    "    print('country_codes is not empty')\n",
    "else:\n",
    "    print('country_codes is empty')"
   ]
  },
  {
   "cell_type": "code",
   "execution_count": 5,
   "id": "7296c5ce-51f8-4409-b027-71045c042078",
   "metadata": {},
   "outputs": [
    {
     "data": {
      "text/plain": [
       "{'VT': 'Vermont', 'NH': 'New Hampshire', 'MA': 'Massachusetts'}"
      ]
     },
     "execution_count": 5,
     "metadata": {},
     "output_type": "execute_result"
    }
   ],
   "source": [
    "states = {'VT': 'Vermont', 'NH': 'New Hampshire', 'MA': 'Massachusetts'}\n",
    "states"
   ]
  },
  {
   "cell_type": "code",
   "execution_count": 7,
   "id": "44e1c395-0dd8-4201-8a60-50339b436aa1",
   "metadata": {},
   "outputs": [
    {
     "data": {
      "text/plain": [
       "{'January': 31, 'February': 28, 'March': 31}"
      ]
     },
     "execution_count": 7,
     "metadata": {},
     "output_type": "execute_result"
    }
   ],
   "source": [
    "days_per_month = {'January': 31, 'February': 28, 'March': 31}\n",
    "days_per_month"
   ]
  },
  {
   "cell_type": "code",
   "execution_count": 8,
   "id": "029615d5-2fa6-4044-b069-308f9e902249",
   "metadata": {},
   "outputs": [
    {
     "name": "stdout",
     "output_type": "stream",
     "text": [
      "January has 31 days\n",
      "February has 28 days\n",
      "March has 31 days\n"
     ]
    }
   ],
   "source": [
    "for month, days in days_per_month.items():\n",
    "    print(f'{month} has {days} days')\n",
    "    "
   ]
  },
  {
   "cell_type": "code",
   "execution_count": 9,
   "id": "bf3062d5-e780-4d68-9454-e114093d0a0d",
   "metadata": {},
   "outputs": [
    {
     "data": {
      "text/plain": [
       "{'I': 1, 'II': 2, 'III': 3, 'V': 5, 'X': 100}"
      ]
     },
     "execution_count": 9,
     "metadata": {},
     "output_type": "execute_result"
    }
   ],
   "source": [
    "roman_numerals = {'I': 1, 'II': 2, 'III': 3, 'V': 5, 'X': 100}\n",
    "roman_numerals"
   ]
  },
  {
   "cell_type": "code",
   "execution_count": 11,
   "id": "1dadec4a-1398-4b44-a515-7344c1ce021a",
   "metadata": {},
   "outputs": [
    {
     "data": {
      "text/plain": [
       "5"
      ]
     },
     "execution_count": 11,
     "metadata": {},
     "output_type": "execute_result"
    }
   ],
   "source": [
    "roman_numerals['V']"
   ]
  },
  {
   "cell_type": "code",
   "execution_count": 13,
   "id": "fa9cbf39-0408-46c1-8500-0a2c18613389",
   "metadata": {},
   "outputs": [
    {
     "data": {
      "text/plain": [
       "{'I': 1, 'II': 2, 'III': 3, 'V': 5, 'X': 10}"
      ]
     },
     "execution_count": 13,
     "metadata": {},
     "output_type": "execute_result"
    }
   ],
   "source": [
    "roman_numerals['X'] = 10\n",
    "roman_numerals"
   ]
  },
  {
   "cell_type": "code",
   "execution_count": 14,
   "id": "6accae12-9c22-4090-bfb5-9e5067e0fe1d",
   "metadata": {},
   "outputs": [
    {
     "data": {
      "text/plain": [
       "{'I': 1, 'II': 2, 'III': 3, 'V': 5, 'X': 10, 'L': 50}"
      ]
     },
     "execution_count": 14,
     "metadata": {},
     "output_type": "execute_result"
    }
   ],
   "source": [
    "roman_numerals['L'] = 50\n",
    "roman_numerals"
   ]
  },
  {
   "cell_type": "code",
   "execution_count": 15,
   "id": "b15686dc-65e2-4ee7-ae0e-422575011697",
   "metadata": {},
   "outputs": [
    {
     "data": {
      "text/plain": [
       "{'I': 1, 'II': 2, 'V': 5, 'X': 10, 'L': 50}"
      ]
     },
     "execution_count": 15,
     "metadata": {},
     "output_type": "execute_result"
    }
   ],
   "source": [
    "del roman_numerals['III']\n",
    "roman_numerals"
   ]
  },
  {
   "cell_type": "code",
   "execution_count": 16,
   "id": "d29eb4ea-c4cf-4491-b00b-496ed3d3f29c",
   "metadata": {},
   "outputs": [
    {
     "data": {
      "text/plain": [
       "10"
      ]
     },
     "execution_count": 16,
     "metadata": {},
     "output_type": "execute_result"
    }
   ],
   "source": [
    "roman_numerals.pop('X')"
   ]
  },
  {
   "cell_type": "code",
   "execution_count": 17,
   "id": "707867f5-38f8-455e-bd23-c2238e772946",
   "metadata": {},
   "outputs": [
    {
     "data": {
      "text/plain": [
       "{'I': 1, 'II': 2, 'V': 5, 'L': 50}"
      ]
     },
     "execution_count": 17,
     "metadata": {},
     "output_type": "execute_result"
    }
   ],
   "source": [
    "roman_numerals"
   ]
  },
  {
   "cell_type": "code",
   "execution_count": 18,
   "id": "1fd75720-9534-4889-b3c3-5c73f5f18126",
   "metadata": {},
   "outputs": [
    {
     "ename": "KeyError",
     "evalue": "'III'",
     "output_type": "error",
     "traceback": [
      "\u001b[1;31m---------------------------------------------------------------------------\u001b[0m",
      "\u001b[1;31mKeyError\u001b[0m                                  Traceback (most recent call last)",
      "\u001b[1;32m<ipython-input-18-ccd50c7f0c8b>\u001b[0m in \u001b[0;36m<module>\u001b[1;34m\u001b[0m\n\u001b[1;32m----> 1\u001b[1;33m \u001b[0mroman_numerals\u001b[0m\u001b[1;33m[\u001b[0m\u001b[1;34m'III'\u001b[0m\u001b[1;33m]\u001b[0m\u001b[1;33m\u001b[0m\u001b[1;33m\u001b[0m\u001b[0m\n\u001b[0m",
      "\u001b[1;31mKeyError\u001b[0m: 'III'"
     ]
    }
   ],
   "source": [
    "roman_numerals['III']"
   ]
  },
  {
   "cell_type": "code",
   "execution_count": 19,
   "id": "219af338-7c11-4dd2-a0ec-596c1eacf0fb",
   "metadata": {},
   "outputs": [],
   "source": [
    "roman_numerals.get('III')"
   ]
  },
  {
   "cell_type": "code",
   "execution_count": 20,
   "id": "bdbf02a6-849e-4eb1-abb5-85a58af7acd7",
   "metadata": {},
   "outputs": [
    {
     "data": {
      "text/plain": [
       "'III not in dictionary'"
      ]
     },
     "execution_count": 20,
     "metadata": {},
     "output_type": "execute_result"
    }
   ],
   "source": [
    "roman_numerals.get('III', 'III not in dictionary')"
   ]
  },
  {
   "cell_type": "code",
   "execution_count": 21,
   "id": "af36432f-d5ab-4969-8f6f-8f8a3e2621b2",
   "metadata": {},
   "outputs": [
    {
     "data": {
      "text/plain": [
       "5"
      ]
     },
     "execution_count": 21,
     "metadata": {},
     "output_type": "execute_result"
    }
   ],
   "source": [
    "roman_numerals.get('V')"
   ]
  },
  {
   "cell_type": "code",
   "execution_count": 22,
   "id": "cb38e858-bc3a-4672-a5b3-2e4ccfc05f9e",
   "metadata": {},
   "outputs": [
    {
     "data": {
      "text/plain": [
       "True"
      ]
     },
     "execution_count": 22,
     "metadata": {},
     "output_type": "execute_result"
    }
   ],
   "source": [
    "'V' in roman_numerals"
   ]
  },
  {
   "cell_type": "code",
   "execution_count": 24,
   "id": "0883e1ea-9993-4085-9847-76b0882c8bfb",
   "metadata": {},
   "outputs": [
    {
     "data": {
      "text/plain": [
       "False"
      ]
     },
     "execution_count": 24,
     "metadata": {},
     "output_type": "execute_result"
    }
   ],
   "source": [
    "'III' in roman_numerals"
   ]
  },
  {
   "cell_type": "code",
   "execution_count": 25,
   "id": "50b3e7a4-5ce1-420e-b0d6-c01bd545ba0b",
   "metadata": {},
   "outputs": [
    {
     "data": {
      "text/plain": [
       "True"
      ]
     },
     "execution_count": 25,
     "metadata": {},
     "output_type": "execute_result"
    }
   ],
   "source": [
    "'III' not in roman_numerals"
   ]
  },
  {
   "cell_type": "code",
   "execution_count": 26,
   "id": "ae69281b-2414-453c-b835-e886b2718ca0",
   "metadata": {},
   "outputs": [
    {
     "name": "stdout",
     "output_type": "stream",
     "text": [
      "January February March "
     ]
    }
   ],
   "source": [
    "months = {'January': 1, 'February': 2, 'March': 3}\n",
    "for month_name in months.keys():\n",
    "    print(month_name, end= ' ')"
   ]
  },
  {
   "cell_type": "code",
   "execution_count": 27,
   "id": "a2f9f362-3e08-4ed9-b3c3-0fd17dc282c1",
   "metadata": {},
   "outputs": [
    {
     "name": "stdout",
     "output_type": "stream",
     "text": [
      "1 2 3 "
     ]
    }
   ],
   "source": [
    "for month_number in months.values():\n",
    "    print(month_number, end= ' ')"
   ]
  },
  {
   "cell_type": "code",
   "execution_count": 29,
   "id": "728a6ab9-a616-4ae0-9279-66cd906c0230",
   "metadata": {},
   "outputs": [
    {
     "name": "stdout",
     "output_type": "stream",
     "text": [
      "January February March "
     ]
    }
   ],
   "source": [
    "months_view = months.keys()\n",
    "\n",
    "for key in months_view:\n",
    "    print(key, end= ' ')"
   ]
  },
  {
   "cell_type": "code",
   "execution_count": 30,
   "id": "6205a7b1-7035-4a95-a92f-0702bec772cb",
   "metadata": {},
   "outputs": [
    {
     "data": {
      "text/plain": [
       "{'January': 1, 'February': 2, 'March': 3, 'December': 12}"
      ]
     },
     "execution_count": 30,
     "metadata": {},
     "output_type": "execute_result"
    }
   ],
   "source": [
    "months['December'] = 12\n",
    "\n",
    "months"
   ]
  },
  {
   "cell_type": "code",
   "execution_count": 31,
   "id": "eedbe16e-aab6-4417-a1a7-a6de4ad6a35f",
   "metadata": {},
   "outputs": [
    {
     "name": "stdout",
     "output_type": "stream",
     "text": [
      "January February March December "
     ]
    }
   ],
   "source": [
    "for key in months_view:\n",
    "    print(key, end= ' ')"
   ]
  },
  {
   "cell_type": "code",
   "execution_count": 33,
   "id": "5bd06d1e-20fa-4c1b-9fef-e15ae479eace",
   "metadata": {},
   "outputs": [
    {
     "data": {
      "text/plain": [
       "['January', 'February', 'March', 'December']"
      ]
     },
     "execution_count": 33,
     "metadata": {},
     "output_type": "execute_result"
    }
   ],
   "source": [
    "list(months.keys())"
   ]
  },
  {
   "cell_type": "code",
   "execution_count": 34,
   "id": "cc2aefe3-af2e-4d14-bf2e-6ba5477a5263",
   "metadata": {},
   "outputs": [
    {
     "data": {
      "text/plain": [
       "[1, 2, 3, 12]"
      ]
     },
     "execution_count": 34,
     "metadata": {},
     "output_type": "execute_result"
    }
   ],
   "source": [
    "list(months.values())"
   ]
  },
  {
   "cell_type": "code",
   "execution_count": 36,
   "id": "a0c690bf-d95f-40c4-b7cb-bc856b421312",
   "metadata": {},
   "outputs": [
    {
     "data": {
      "text/plain": [
       "[('January', 1), ('February', 2), ('March', 3), ('December', 12)]"
      ]
     },
     "execution_count": 36,
     "metadata": {},
     "output_type": "execute_result"
    }
   ],
   "source": [
    "list(months.items())"
   ]
  },
  {
   "cell_type": "code",
   "execution_count": 37,
   "id": "68eb1ebc-9b04-4b4a-9ea9-a3f0b582994a",
   "metadata": {},
   "outputs": [
    {
     "name": "stdout",
     "output_type": "stream",
     "text": [
      "December February January March "
     ]
    }
   ],
   "source": [
    "for month_name in sorted(months.keys()):\n",
    "    print(month_name, end= ' ')"
   ]
  },
  {
   "cell_type": "code",
   "execution_count": 38,
   "id": "5d766262-b853-4b57-8b52-2c7e36356fea",
   "metadata": {},
   "outputs": [
    {
     "data": {
      "text/plain": [
       "True"
      ]
     },
     "execution_count": 38,
     "metadata": {},
     "output_type": "execute_result"
    }
   ],
   "source": [
    "country_capitals1 = {'Belgium': 'Brussels', 'Haiti': 'Port-au-Prince'}\n",
    "country_capitals2 = {'Nepal': 'Kathmandu', 'Uruguary': 'Montevideo'}\n",
    "country_capitals3 = {'Haiti': 'Port-au-Prince', 'Belgium': 'Brussels'}\n",
    "\n",
    "country_capitals1 == country_capitals3"
   ]
  },
  {
   "cell_type": "code",
   "execution_count": 39,
   "id": "8f8e3ea5-ab2a-43c8-ae6f-ac668e4b5dc8",
   "metadata": {},
   "outputs": [
    {
     "data": {
      "text/plain": [
       "False"
      ]
     },
     "execution_count": 39,
     "metadata": {},
     "output_type": "execute_result"
    }
   ],
   "source": [
    "country_capitals1 == country_capitals2"
   ]
  },
  {
   "cell_type": "code",
   "execution_count": 40,
   "id": "24d4cc24-255d-43a5-8a0f-c2229baca98d",
   "metadata": {},
   "outputs": [
    {
     "data": {
      "text/plain": [
       "True"
      ]
     },
     "execution_count": 40,
     "metadata": {},
     "output_type": "execute_result"
    }
   ],
   "source": [
    "country_capitals1 != country_capitals2"
   ]
  },
  {
   "cell_type": "code",
   "execution_count": 46,
   "id": "33e6ef92-ff5d-43e9-9904-73d6504dd3e4",
   "metadata": {},
   "outputs": [
    {
     "name": "stdout",
     "output_type": "stream",
     "text": [
      "WORD        COUNT\n",
      "different   1\n",
      "is          2\n",
      "more        1\n",
      "sample      2\n",
      "several     1\n",
      "some        1\n",
      "text        2\n",
      "this        2\n",
      "with        2\n",
      "words       2\n",
      "\n",
      "Number of unique words: 10\n"
     ]
    }
   ],
   "source": [
    "text = ('this is sample text with several words '\n",
    "        'this is more sample text with some different words')\n",
    "\n",
    "word_counts = {}\n",
    "\n",
    "for word in text.split():\n",
    "    if word in word_counts:\n",
    "        word_counts[word] += 1\n",
    "    else:\n",
    "         word_counts[word] = 1\n",
    "            \n",
    "print(f'{\"WORD\":<12}COUNT')\n",
    "\n",
    "for word, count in sorted(word_counts.items()):\n",
    "    print(f'{word:<12}{count}')\n",
    "    \n",
    "print('\\nNumber of unique words:', len(word_counts))"
   ]
  },
  {
   "cell_type": "code",
   "execution_count": 47,
   "id": "b47ab2e2-1e1f-46e3-960e-3e5dd4b7cc48",
   "metadata": {},
   "outputs": [
    {
     "name": "stdout",
     "output_type": "stream",
     "text": [
      "WORD        COUNT\n",
      "different   1\n",
      "going       1\n",
      "have        1\n",
      "hereit      1\n",
      "is          2\n",
      "just        1\n",
      "keeps       1\n",
      "more        3\n",
      "sample      2\n",
      "say         2\n",
      "several     1\n",
      "some        2\n",
      "text        2\n",
      "this        2\n",
      "to          2\n",
      "with        2\n",
      "words       3\n",
      "wordsI      1\n",
      "\n",
      "Number of unique words: 18\n"
     ]
    }
   ],
   "source": [
    "text = ('this is sample text with several words '\n",
    "        'this is more sample text with some different words'\n",
    "        'I have more words to say here'\n",
    "        'it just keeps going to say some more words')\n",
    "\n",
    "word_counts = {}\n",
    "\n",
    "for word in text.split():\n",
    "    if word in word_counts:\n",
    "        word_counts[word] += 1\n",
    "    else:\n",
    "         word_counts[word] = 1\n",
    "            \n",
    "print(f'{\"WORD\":<12}COUNT')\n",
    "\n",
    "for word, count in sorted(word_counts.items()):\n",
    "    print(f'{word:<12}{count}')\n",
    "    \n",
    "print('\\nNumber of unique words:', len(word_counts))"
   ]
  },
  {
   "cell_type": "code",
   "execution_count": null,
   "id": "b756b4b2-4f10-492e-9464-31449f2a69d4",
   "metadata": {},
   "outputs": [],
   "source": []
  }
 ],
 "metadata": {
  "kernelspec": {
   "display_name": "Python 3",
   "language": "python",
   "name": "python3"
  },
  "language_info": {
   "codemirror_mode": {
    "name": "ipython",
    "version": 3
   },
   "file_extension": ".py",
   "mimetype": "text/x-python",
   "name": "python",
   "nbconvert_exporter": "python",
   "pygments_lexer": "ipython3",
   "version": "3.8.11"
  }
 },
 "nbformat": 4,
 "nbformat_minor": 5
}
