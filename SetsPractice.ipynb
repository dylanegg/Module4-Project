{
 "cells": [
  {
   "cell_type": "code",
   "execution_count": 1,
   "id": "02aa8484-372e-41b8-b9e4-8c1d0cf8c5a5",
   "metadata": {},
   "outputs": [
    {
     "data": {
      "text/plain": [
       "{'blue', 'green', 'orange', 'red', 'yellow'}"
      ]
     },
     "execution_count": 1,
     "metadata": {},
     "output_type": "execute_result"
    }
   ],
   "source": [
    "colors = {'red', 'orange', 'yellow', 'green', 'red', 'blue'}\n",
    "\n",
    "colors"
   ]
  },
  {
   "cell_type": "code",
   "execution_count": 2,
   "id": "2f7e7cdf-8b6f-41b5-aea0-2a14399b6122",
   "metadata": {},
   "outputs": [
    {
     "data": {
      "text/plain": [
       "5"
      ]
     },
     "execution_count": 2,
     "metadata": {},
     "output_type": "execute_result"
    }
   ],
   "source": [
    "len(colors)"
   ]
  },
  {
   "cell_type": "code",
   "execution_count": 3,
   "id": "11bab0ff-8d36-4c2b-993b-dec9df8a2d01",
   "metadata": {},
   "outputs": [
    {
     "data": {
      "text/plain": [
       "True"
      ]
     },
     "execution_count": 3,
     "metadata": {},
     "output_type": "execute_result"
    }
   ],
   "source": [
    "'red' in colors"
   ]
  },
  {
   "cell_type": "code",
   "execution_count": 4,
   "id": "e9a0e25c-2750-4ad2-b16b-c1d7c78b067c",
   "metadata": {},
   "outputs": [
    {
     "data": {
      "text/plain": [
       "False"
      ]
     },
     "execution_count": 4,
     "metadata": {},
     "output_type": "execute_result"
    }
   ],
   "source": [
    "'purple' in colors"
   ]
  },
  {
   "cell_type": "code",
   "execution_count": 5,
   "id": "b6c19bab-1774-452d-92c5-9bbd436a59d1",
   "metadata": {},
   "outputs": [
    {
     "data": {
      "text/plain": [
       "True"
      ]
     },
     "execution_count": 5,
     "metadata": {},
     "output_type": "execute_result"
    }
   ],
   "source": [
    "'purple' not in colors"
   ]
  },
  {
   "cell_type": "code",
   "execution_count": 6,
   "id": "425d395d-589e-4924-828f-30fd8417d367",
   "metadata": {},
   "outputs": [
    {
     "name": "stdout",
     "output_type": "stream",
     "text": [
      "YELLOW RED GREEN BLUE ORANGE "
     ]
    }
   ],
   "source": [
    "for color in colors:\n",
    "    print(color.upper(),end=' ')"
   ]
  },
  {
   "cell_type": "code",
   "execution_count": 7,
   "id": "0ef8ee26-e1e0-4c3b-b917-03abfc58296c",
   "metadata": {},
   "outputs": [
    {
     "data": {
      "text/plain": [
       "[0, 1, 2, 3, 4, 5, 6, 7, 8, 9, 0, 1, 2, 3, 4]"
      ]
     },
     "execution_count": 7,
     "metadata": {},
     "output_type": "execute_result"
    }
   ],
   "source": [
    "numbers = list(range(10)) + list(range(5))\n",
    "\n",
    "numbers"
   ]
  },
  {
   "cell_type": "code",
   "execution_count": 8,
   "id": "73fe8efd-e5cc-43a3-869e-f40ece5e3f5c",
   "metadata": {},
   "outputs": [
    {
     "data": {
      "text/plain": [
       "{0, 1, 2, 3, 4, 5, 6, 7, 8, 9}"
      ]
     },
     "execution_count": 8,
     "metadata": {},
     "output_type": "execute_result"
    }
   ],
   "source": [
    "set(numbers)"
   ]
  },
  {
   "cell_type": "code",
   "execution_count": 9,
   "id": "cf28359b-8123-4e27-9693-d2c5dc04eb8c",
   "metadata": {},
   "outputs": [
    {
     "data": {
      "text/plain": [
       "set()"
      ]
     },
     "execution_count": 9,
     "metadata": {},
     "output_type": "execute_result"
    }
   ],
   "source": [
    "set()"
   ]
  },
  {
   "cell_type": "code",
   "execution_count": 10,
   "id": "451101a0-b8b8-4888-adf3-ccde1230372b",
   "metadata": {},
   "outputs": [
    {
     "data": {
      "text/plain": [
       "True"
      ]
     },
     "execution_count": 10,
     "metadata": {},
     "output_type": "execute_result"
    }
   ],
   "source": [
    "{1, 3, 5} == {3, 5, 1}"
   ]
  },
  {
   "cell_type": "code",
   "execution_count": 11,
   "id": "003c05af-3ebc-4d9f-8627-d604d7b8e0a2",
   "metadata": {},
   "outputs": [
    {
     "data": {
      "text/plain": [
       "False"
      ]
     },
     "execution_count": 11,
     "metadata": {},
     "output_type": "execute_result"
    }
   ],
   "source": [
    "{1, 3, 5} != {3, 5, 1}"
   ]
  },
  {
   "cell_type": "code",
   "execution_count": 12,
   "id": "ebdbaece-7707-433d-b39e-f24d4329a321",
   "metadata": {},
   "outputs": [
    {
     "data": {
      "text/plain": [
       "False"
      ]
     },
     "execution_count": 12,
     "metadata": {},
     "output_type": "execute_result"
    }
   ],
   "source": [
    "{1, 3, 5} < {3, 5, 1}"
   ]
  },
  {
   "cell_type": "code",
   "execution_count": 13,
   "id": "69e636b4-947d-4383-84c4-4edd5264f2ae",
   "metadata": {},
   "outputs": [
    {
     "data": {
      "text/plain": [
       "True"
      ]
     },
     "execution_count": 13,
     "metadata": {},
     "output_type": "execute_result"
    }
   ],
   "source": [
    "{1, 3, 5} < {7, 3, 5, 1}"
   ]
  },
  {
   "cell_type": "code",
   "execution_count": 14,
   "id": "2681a494-2833-436b-9ccd-797395c4aa61",
   "metadata": {},
   "outputs": [
    {
     "data": {
      "text/plain": [
       "True"
      ]
     },
     "execution_count": 14,
     "metadata": {},
     "output_type": "execute_result"
    }
   ],
   "source": [
    "{1, 3, 5} <= {3, 5, 1}"
   ]
  },
  {
   "cell_type": "code",
   "execution_count": 15,
   "id": "80802c4d-21a9-470d-8c93-4566935ce2ea",
   "metadata": {},
   "outputs": [
    {
     "data": {
      "text/plain": [
       "True"
      ]
     },
     "execution_count": 15,
     "metadata": {},
     "output_type": "execute_result"
    }
   ],
   "source": [
    "{1, 3, 5}.issubset({3, 5, 1})"
   ]
  },
  {
   "cell_type": "code",
   "execution_count": 16,
   "id": "5325fb67-3827-46ef-a013-149612bd8c1d",
   "metadata": {},
   "outputs": [
    {
     "data": {
      "text/plain": [
       "False"
      ]
     },
     "execution_count": 16,
     "metadata": {},
     "output_type": "execute_result"
    }
   ],
   "source": [
    "{1, 2}.issubset({3, 5, 1})"
   ]
  },
  {
   "cell_type": "code",
   "execution_count": 17,
   "id": "ebaf18b1-f3df-4a91-8b4d-a93df515077f",
   "metadata": {},
   "outputs": [
    {
     "data": {
      "text/plain": [
       "False"
      ]
     },
     "execution_count": 17,
     "metadata": {},
     "output_type": "execute_result"
    }
   ],
   "source": [
    "{1, 3, 5} > {3, 5, 1}"
   ]
  },
  {
   "cell_type": "code",
   "execution_count": 18,
   "id": "8f414b22-3d9e-4fc6-bfb1-bb2215eedcab",
   "metadata": {},
   "outputs": [
    {
     "data": {
      "text/plain": [
       "True"
      ]
     },
     "execution_count": 18,
     "metadata": {},
     "output_type": "execute_result"
    }
   ],
   "source": [
    "{1, 3, 5, 7} > {3, 5, 1}"
   ]
  },
  {
   "cell_type": "code",
   "execution_count": 19,
   "id": "d80113a3-c4df-4c8a-bdba-78aee2eb4646",
   "metadata": {},
   "outputs": [
    {
     "data": {
      "text/plain": [
       "True"
      ]
     },
     "execution_count": 19,
     "metadata": {},
     "output_type": "execute_result"
    }
   ],
   "source": [
    "{1, 3, 5} >= {3, 5, 1}"
   ]
  },
  {
   "cell_type": "code",
   "execution_count": 20,
   "id": "c2edb022-c779-4ae9-82a0-68ac06519c5c",
   "metadata": {},
   "outputs": [
    {
     "data": {
      "text/plain": [
       "True"
      ]
     },
     "execution_count": 20,
     "metadata": {},
     "output_type": "execute_result"
    }
   ],
   "source": [
    "{1, 3, 5} >= {3, 1}"
   ]
  },
  {
   "cell_type": "code",
   "execution_count": 21,
   "id": "5afae282-bfe7-4619-8017-cc6b20617083",
   "metadata": {},
   "outputs": [
    {
     "data": {
      "text/plain": [
       "False"
      ]
     },
     "execution_count": 21,
     "metadata": {},
     "output_type": "execute_result"
    }
   ],
   "source": [
    "{1, 3} >= {3, 1, 7}"
   ]
  },
  {
   "cell_type": "code",
   "execution_count": 22,
   "id": "560920ea-d6d8-4b18-9ed3-698e337424b4",
   "metadata": {},
   "outputs": [
    {
     "data": {
      "text/plain": [
       "True"
      ]
     },
     "execution_count": 22,
     "metadata": {},
     "output_type": "execute_result"
    }
   ],
   "source": [
    "{1, 3, 5}.issuperset({3, 5, 1})"
   ]
  },
  {
   "cell_type": "code",
   "execution_count": 23,
   "id": "74673e0f-c891-4ee1-9e9e-3e6e3f696c5f",
   "metadata": {},
   "outputs": [
    {
     "data": {
      "text/plain": [
       "False"
      ]
     },
     "execution_count": 23,
     "metadata": {},
     "output_type": "execute_result"
    }
   ],
   "source": [
    "{1, 3, 5}.issuperset({3, 2})"
   ]
  },
  {
   "cell_type": "code",
   "execution_count": 24,
   "id": "eea48ace-d1bf-4905-9164-e54a3534f7d6",
   "metadata": {},
   "outputs": [
    {
     "data": {
      "text/plain": [
       "{1, 2, 3, 4, 5}"
      ]
     },
     "execution_count": 24,
     "metadata": {},
     "output_type": "execute_result"
    }
   ],
   "source": [
    "{1, 3, 5} | {2, 3, 4}"
   ]
  },
  {
   "cell_type": "code",
   "execution_count": 25,
   "id": "9c0215e3-98d4-4b4e-81b4-50d205dc5b42",
   "metadata": {},
   "outputs": [
    {
     "data": {
      "text/plain": [
       "{1, 3, 5, 20, 40}"
      ]
     },
     "execution_count": 25,
     "metadata": {},
     "output_type": "execute_result"
    }
   ],
   "source": [
    "{1, 3, 5}.union([20, 20, 3, 40, 40])"
   ]
  },
  {
   "cell_type": "code",
   "execution_count": 26,
   "id": "647d2e3d-a1d9-4c25-9a2a-310831a395e3",
   "metadata": {},
   "outputs": [
    {
     "data": {
      "text/plain": [
       "{3}"
      ]
     },
     "execution_count": 26,
     "metadata": {},
     "output_type": "execute_result"
    }
   ],
   "source": [
    "{1, 3, 5} & {2, 3, 4}"
   ]
  },
  {
   "cell_type": "code",
   "execution_count": 27,
   "id": "f4bd24d9-c72c-49d6-bd2f-cc73f7f32d7c",
   "metadata": {},
   "outputs": [
    {
     "data": {
      "text/plain": [
       "{1, 3}"
      ]
     },
     "execution_count": 27,
     "metadata": {},
     "output_type": "execute_result"
    }
   ],
   "source": [
    "{1, 3, 5}.intersection([1, 2, 2, 3, 4, 4])"
   ]
  },
  {
   "cell_type": "code",
   "execution_count": 28,
   "id": "1cd65a96-a254-4641-8be6-bb1bd415c5b2",
   "metadata": {},
   "outputs": [
    {
     "data": {
      "text/plain": [
       "{1, 5}"
      ]
     },
     "execution_count": 28,
     "metadata": {},
     "output_type": "execute_result"
    }
   ],
   "source": [
    "{1, 3, 5} - {2, 3, 4}"
   ]
  },
  {
   "cell_type": "code",
   "execution_count": 29,
   "id": "a914231b-d330-489f-a393-5fd37ba04d55",
   "metadata": {},
   "outputs": [
    {
     "data": {
      "text/plain": [
       "{1, 5, 7}"
      ]
     },
     "execution_count": 29,
     "metadata": {},
     "output_type": "execute_result"
    }
   ],
   "source": [
    "{1, 3, 5, 7}.difference([2, 2, 3, 3, 4, 4])"
   ]
  },
  {
   "cell_type": "code",
   "execution_count": 30,
   "id": "1335b314-c7e1-45b8-96e3-766a4258b1c2",
   "metadata": {},
   "outputs": [
    {
     "data": {
      "text/plain": [
       "{1, 2, 4, 5}"
      ]
     },
     "execution_count": 30,
     "metadata": {},
     "output_type": "execute_result"
    }
   ],
   "source": [
    "{1, 3, 5} ^ {2, 3, 4}"
   ]
  },
  {
   "cell_type": "code",
   "execution_count": 31,
   "id": "95e14fbc-63a2-40b5-9858-9a9e7fb24af7",
   "metadata": {},
   "outputs": [
    {
     "data": {
      "text/plain": [
       "{1, 3, 4, 5, 7}"
      ]
     },
     "execution_count": 31,
     "metadata": {},
     "output_type": "execute_result"
    }
   ],
   "source": [
    "{1, 2, 5, 7}.symmetric_difference([2, 2, 3, 3, 4, 4])"
   ]
  },
  {
   "cell_type": "code",
   "execution_count": 33,
   "id": "ff07c147-9729-4874-b6ca-f5166a5672b1",
   "metadata": {},
   "outputs": [
    {
     "data": {
      "text/plain": [
       "True"
      ]
     },
     "execution_count": 33,
     "metadata": {},
     "output_type": "execute_result"
    }
   ],
   "source": [
    "{1, 3, 5}.isdisjoint({2, 4, 6})"
   ]
  },
  {
   "cell_type": "code",
   "execution_count": 34,
   "id": "e94568bd-9793-49ce-a33a-a7ef83a3137d",
   "metadata": {},
   "outputs": [
    {
     "data": {
      "text/plain": [
       "False"
      ]
     },
     "execution_count": 34,
     "metadata": {},
     "output_type": "execute_result"
    }
   ],
   "source": [
    "{1, 3, 5}.isdisjoint({4, 6, 1})"
   ]
  },
  {
   "cell_type": "code",
   "execution_count": 36,
   "id": "6dc886ca-5fe8-44a4-a3f1-1590010067d5",
   "metadata": {},
   "outputs": [
    {
     "data": {
      "text/plain": [
       "{1, 2, 3, 4, 5}"
      ]
     },
     "execution_count": 36,
     "metadata": {},
     "output_type": "execute_result"
    }
   ],
   "source": [
    "numbers = {1, 3, 5}\n",
    "\n",
    "numbers |= {2, 3, 4}\n",
    "\n",
    "numbers"
   ]
  },
  {
   "cell_type": "code",
   "execution_count": 37,
   "id": "b4ecf114-271e-471f-86f8-018fbbc88195",
   "metadata": {},
   "outputs": [
    {
     "data": {
      "text/plain": [
       "{0, 1, 2, 3, 4, 5, 6, 7, 8, 9}"
      ]
     },
     "execution_count": 37,
     "metadata": {},
     "output_type": "execute_result"
    }
   ],
   "source": [
    "numbers.update(range(10))\n",
    "numbers"
   ]
  },
  {
   "cell_type": "code",
   "execution_count": 38,
   "id": "7aa43a06-358d-44a1-bc86-9af89653f829",
   "metadata": {},
   "outputs": [
    {
     "data": {
      "text/plain": [
       "{0, 1, 2, 3, 4, 5, 6, 7, 8, 9, 17}"
      ]
     },
     "execution_count": 38,
     "metadata": {},
     "output_type": "execute_result"
    }
   ],
   "source": [
    "numbers.add(17)\n",
    "numbers.add(3)\n",
    "numbers"
   ]
  },
  {
   "cell_type": "code",
   "execution_count": 39,
   "id": "98e41d9c-f6e3-4e2a-9dc9-58a7e90be598",
   "metadata": {},
   "outputs": [
    {
     "data": {
      "text/plain": [
       "{0, 1, 2, 4, 5, 6, 7, 8, 9, 17}"
      ]
     },
     "execution_count": 39,
     "metadata": {},
     "output_type": "execute_result"
    }
   ],
   "source": [
    "numbers.remove(3)\n",
    "numbers"
   ]
  },
  {
   "cell_type": "code",
   "execution_count": 40,
   "id": "a9f0a49e-2980-4ace-9670-423bc4aa5208",
   "metadata": {},
   "outputs": [
    {
     "data": {
      "text/plain": [
       "0"
      ]
     },
     "execution_count": 40,
     "metadata": {},
     "output_type": "execute_result"
    }
   ],
   "source": [
    "numbers.pop()"
   ]
  },
  {
   "cell_type": "code",
   "execution_count": 41,
   "id": "2a56f350-4270-408c-83a5-9d38624d8627",
   "metadata": {},
   "outputs": [
    {
     "data": {
      "text/plain": [
       "{1, 2, 4, 5, 6, 7, 8, 9, 17}"
      ]
     },
     "execution_count": 41,
     "metadata": {},
     "output_type": "execute_result"
    }
   ],
   "source": [
    "numbers"
   ]
  },
  {
   "cell_type": "code",
   "execution_count": 42,
   "id": "9a77819c-f165-448e-8b8c-e68a41533903",
   "metadata": {},
   "outputs": [],
   "source": [
    "numbers.clear()"
   ]
  },
  {
   "cell_type": "code",
   "execution_count": 43,
   "id": "4938a514-c4b0-4c52-89cb-81bb0977413e",
   "metadata": {},
   "outputs": [
    {
     "data": {
      "text/plain": [
       "set()"
      ]
     },
     "execution_count": 43,
     "metadata": {},
     "output_type": "execute_result"
    }
   ],
   "source": [
    "numbers"
   ]
  },
  {
   "cell_type": "code",
   "execution_count": 44,
   "id": "e643e1fa-3ac0-41f4-9015-31852df8cce6",
   "metadata": {},
   "outputs": [
    {
     "ename": "FileNotFoundError",
     "evalue": "[Errno 2] No such file or directory: 'chiefs.txt'",
     "output_type": "error",
     "traceback": [
      "\u001b[1;31m---------------------------------------------------------------------------\u001b[0m",
      "\u001b[1;31mFileNotFoundError\u001b[0m                         Traceback (most recent call last)",
      "\u001b[1;32m<ipython-input-44-2e949f42fb32>\u001b[0m in \u001b[0;36m<module>\u001b[1;34m\u001b[0m\n\u001b[0;32m      2\u001b[0m \u001b[1;34m\"\"\"Tokenizing a string and counting unique words.\"\"\"\u001b[0m\u001b[1;33m\u001b[0m\u001b[1;33m\u001b[0m\u001b[0m\n\u001b[0;32m      3\u001b[0m \u001b[1;33m\u001b[0m\u001b[0m\n\u001b[1;32m----> 4\u001b[1;33m \u001b[0mtext\u001b[0m \u001b[1;33m=\u001b[0m \u001b[0mopen\u001b[0m\u001b[1;33m(\u001b[0m\u001b[1;34m'chiefs.txt'\u001b[0m\u001b[1;33m,\u001b[0m\u001b[1;34m'r'\u001b[0m\u001b[1;33m)\u001b[0m\u001b[1;33m\u001b[0m\u001b[1;33m\u001b[0m\u001b[0m\n\u001b[0m\u001b[0;32m      5\u001b[0m \u001b[1;33m\u001b[0m\u001b[0m\n\u001b[0;32m      6\u001b[0m \u001b[0mword_counts\u001b[0m \u001b[1;33m=\u001b[0m \u001b[1;33m{\u001b[0m\u001b[1;33m}\u001b[0m\u001b[1;33m\u001b[0m\u001b[1;33m\u001b[0m\u001b[0m\n",
      "\u001b[1;31mFileNotFoundError\u001b[0m: [Errno 2] No such file or directory: 'chiefs.txt'"
     ]
    }
   ],
   "source": [
    "# fig06_02.py\n",
    "\"\"\"Tokenizing a string and counting unique words.\"\"\"\n",
    "\n",
    "text = open('chiefs.txt','r')\n",
    "\n",
    "word_counts = {}\n",
    "\n",
    "# count occurrences of each unique word\n",
    "for word in text.split():\n",
    "    if word in word_counts: \n",
    "        word_counts[word] += 1  # update existing key-value pair\n",
    "    else:\n",
    "        word_counts[word] = 1  # insert new key-value pair\n",
    "\n",
    "print(f'{\"WORD\":<12}COUNT')\n",
    "\n",
    "for word, count in sorted(word_counts.items()):\n",
    "    print(f'{word:<12}{count}')\n",
    "\n",
    "print('\\nNumber of unique words:', len(word_counts))"
   ]
  },
  {
   "cell_type": "code",
   "execution_count": null,
   "id": "0d3652fb-b3f3-45cf-a131-6bd19cd2bf7f",
   "metadata": {},
   "outputs": [],
   "source": []
  }
 ],
 "metadata": {
  "kernelspec": {
   "display_name": "Python 3",
   "language": "python",
   "name": "python3"
  },
  "language_info": {
   "codemirror_mode": {
    "name": "ipython",
    "version": 3
   },
   "file_extension": ".py",
   "mimetype": "text/x-python",
   "name": "python",
   "nbconvert_exporter": "python",
   "pygments_lexer": "ipython3",
   "version": "3.8.11"
  }
 },
 "nbformat": 4,
 "nbformat_minor": 5
}
