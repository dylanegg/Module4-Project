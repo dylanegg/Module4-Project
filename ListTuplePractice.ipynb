{
 "cells": [
  {
   "cell_type": "code",
   "execution_count": 1,
   "id": "fad2d194-c426-41e2-aa68-cdfdcf29cf63",
   "metadata": {},
   "outputs": [],
   "source": [
    "c = [-1, 3, 6, 76, 4, 90, 2356, 292]"
   ]
  },
  {
   "cell_type": "code",
   "execution_count": 2,
   "id": "cda8843b-652c-41ff-a70d-72c41ac5bf7a",
   "metadata": {},
   "outputs": [
    {
     "data": {
      "text/plain": [
       "-1"
      ]
     },
     "execution_count": 2,
     "metadata": {},
     "output_type": "execute_result"
    }
   ],
   "source": [
    "c[0]"
   ]
  },
  {
   "cell_type": "code",
   "execution_count": 3,
   "id": "98c32165-76d1-4cb4-b83f-028121e827ce",
   "metadata": {},
   "outputs": [
    {
     "data": {
      "text/plain": [
       "4"
      ]
     },
     "execution_count": 3,
     "metadata": {},
     "output_type": "execute_result"
    }
   ],
   "source": [
    "c[4]"
   ]
  },
  {
   "cell_type": "code",
   "execution_count": 4,
   "id": "27919189-7db8-436e-95a8-85c917446632",
   "metadata": {},
   "outputs": [
    {
     "data": {
      "text/plain": [
       "8"
      ]
     },
     "execution_count": 4,
     "metadata": {},
     "output_type": "execute_result"
    }
   ],
   "source": [
    "len(c)"
   ]
  },
  {
   "cell_type": "code",
   "execution_count": 5,
   "id": "37dd25ad-72d1-4281-a693-7c2bb1cda34d",
   "metadata": {},
   "outputs": [
    {
     "data": {
      "text/plain": [
       "292"
      ]
     },
     "execution_count": 5,
     "metadata": {},
     "output_type": "execute_result"
    }
   ],
   "source": [
    "c[-1]"
   ]
  },
  {
   "cell_type": "code",
   "execution_count": 6,
   "id": "38d4aab9-10f2-46d6-9cda-87c3f78ed4b5",
   "metadata": {},
   "outputs": [
    {
     "ename": "IndexError",
     "evalue": "list index out of range",
     "output_type": "error",
     "traceback": [
      "\u001b[1;31m---------------------------------------------------------------------------\u001b[0m",
      "\u001b[1;31mIndexError\u001b[0m                                Traceback (most recent call last)",
      "\u001b[1;32m<ipython-input-6-78fb4de297cc>\u001b[0m in \u001b[0;36m<module>\u001b[1;34m\u001b[0m\n\u001b[1;32m----> 1\u001b[1;33m \u001b[0mc\u001b[0m\u001b[1;33m[\u001b[0m\u001b[1;36m100\u001b[0m\u001b[1;33m]\u001b[0m\u001b[1;33m\u001b[0m\u001b[1;33m\u001b[0m\u001b[0m\n\u001b[0m",
      "\u001b[1;31mIndexError\u001b[0m: list index out of range"
     ]
    }
   ],
   "source": [
    "c[100]"
   ]
  },
  {
   "cell_type": "code",
   "execution_count": 7,
   "id": "88181880-6701-413b-a7e9-3ca2d9e8bef7",
   "metadata": {},
   "outputs": [
    {
     "data": {
      "text/plain": [
       "8"
      ]
     },
     "execution_count": 7,
     "metadata": {},
     "output_type": "execute_result"
    }
   ],
   "source": [
    "c[0] + c[1] +c[2]"
   ]
  },
  {
   "cell_type": "code",
   "execution_count": 8,
   "id": "bb405aed-e1fb-4c79-9e8f-64e36900443d",
   "metadata": {},
   "outputs": [],
   "source": [
    "c += 1, 2, 3, 4"
   ]
  },
  {
   "cell_type": "code",
   "execution_count": 11,
   "id": "26985bd9-42f2-465b-ba73-b87186ccad28",
   "metadata": {},
   "outputs": [
    {
     "data": {
      "text/plain": [
       "[1, 2, 3, 4, 5, 10, 20, 40, 50, 90]"
      ]
     },
     "execution_count": 11,
     "metadata": {},
     "output_type": "execute_result"
    }
   ],
   "source": [
    "new_list = [1,2,3,4,5] + [10,20,40,50,90]\n",
    "new_list"
   ]
  },
  {
   "cell_type": "code",
   "execution_count": 12,
   "id": "3f8e6292-11e6-49d4-962f-22f64f03f40d",
   "metadata": {},
   "outputs": [
    {
     "name": "stdout",
     "output_type": "stream",
     "text": [
      "0: -1\n",
      "1: 3\n",
      "2: 6\n",
      "3: 76\n",
      "4: 4\n",
      "5: 90\n",
      "6: 2356\n",
      "7: 292\n",
      "8: 1\n",
      "9: 2\n",
      "10: 3\n",
      "11: 4\n"
     ]
    }
   ],
   "source": [
    "for i in range(len(c)):\n",
    "    print(f'{i}: {c[i]}')"
   ]
  },
  {
   "cell_type": "code",
   "execution_count": 13,
   "id": "d2ed5ee2-c3b8-425c-92d6-a1639ee1e9c0",
   "metadata": {},
   "outputs": [],
   "source": [
    "a = [1, 2, 3]\n",
    "b = [1, 2, 3]\n",
    "c = [12, 45, 34]"
   ]
  },
  {
   "cell_type": "code",
   "execution_count": 14,
   "id": "cdfd8605-5d6c-4fc8-a558-95f4468ce8e6",
   "metadata": {},
   "outputs": [
    {
     "data": {
      "text/plain": [
       "True"
      ]
     },
     "execution_count": 14,
     "metadata": {},
     "output_type": "execute_result"
    }
   ],
   "source": [
    "a == b"
   ]
  },
  {
   "cell_type": "code",
   "execution_count": 15,
   "id": "46e86322-3a3d-4461-8a44-285368a5edf2",
   "metadata": {},
   "outputs": [
    {
     "data": {
      "text/plain": [
       "False"
      ]
     },
     "execution_count": 15,
     "metadata": {},
     "output_type": "execute_result"
    }
   ],
   "source": [
    "a == c"
   ]
  },
  {
   "cell_type": "code",
   "execution_count": 16,
   "id": "e65be207-3c54-42a6-b537-9863d6eb87e1",
   "metadata": {},
   "outputs": [
    {
     "data": {
      "text/plain": [
       "True"
      ]
     },
     "execution_count": 16,
     "metadata": {},
     "output_type": "execute_result"
    }
   ],
   "source": [
    "a < c"
   ]
  },
  {
   "cell_type": "code",
   "execution_count": 17,
   "id": "bb063018-ada0-4493-af9d-52dd984d22b9",
   "metadata": {},
   "outputs": [
    {
     "data": {
      "text/plain": [
       "False"
      ]
     },
     "execution_count": 17,
     "metadata": {},
     "output_type": "execute_result"
    }
   ],
   "source": [
    "b > c"
   ]
  },
  {
   "cell_type": "code",
   "execution_count": 18,
   "id": "5f8dbe3e-71ae-4174-93f3-13e3e10c216a",
   "metadata": {},
   "outputs": [
    {
     "data": {
      "text/plain": [
       "True"
      ]
     },
     "execution_count": 18,
     "metadata": {},
     "output_type": "execute_result"
    }
   ],
   "source": [
    "c >= b"
   ]
  },
  {
   "cell_type": "code",
   "execution_count": 22,
   "id": "97ec8b1f-c37c-48ce-a33a-858c8fbe72e4",
   "metadata": {},
   "outputs": [],
   "source": [
    "def cube_list(values):\n",
    "    for i in range(len(values)):\n",
    "        values[i] **= 3"
   ]
  },
  {
   "cell_type": "code",
   "execution_count": 23,
   "id": "4a50f7ef-3a5c-4a7b-9830-0d297acdb8ca",
   "metadata": {},
   "outputs": [
    {
     "data": {
      "text/plain": [
       "[64, 27, 125, 512, 8, 27, 729, 0]"
      ]
     },
     "execution_count": 23,
     "metadata": {},
     "output_type": "execute_result"
    }
   ],
   "source": [
    "numbers = [4, 3, 5, 8, 2, 3, 9, 0]\n",
    "\n",
    "cube_list(numbers)\n",
    "\n",
    "numbers"
   ]
  },
  {
   "cell_type": "code",
   "execution_count": 30,
   "id": "8afdab3b-06da-4d99-92ec-763deb3ee0ec",
   "metadata": {},
   "outputs": [],
   "source": [
    "my_tuple = 'Dylan', 'Eggemeyer', 100"
   ]
  },
  {
   "cell_type": "code",
   "execution_count": 31,
   "id": "49ea36f7-9efa-4043-bb0e-27d2c98aca1c",
   "metadata": {},
   "outputs": [
    {
     "data": {
      "text/plain": [
       "100"
      ]
     },
     "execution_count": 31,
     "metadata": {},
     "output_type": "execute_result"
    }
   ],
   "source": [
    "my_tuple[2]"
   ]
  },
  {
   "cell_type": "code",
   "execution_count": 32,
   "id": "ccd2c810-ab3d-4c7c-b00b-a70db43b138f",
   "metadata": {},
   "outputs": [
    {
     "data": {
      "text/plain": [
       "'Dylan'"
      ]
     },
     "execution_count": 32,
     "metadata": {},
     "output_type": "execute_result"
    }
   ],
   "source": [
    "my_tuple[0]"
   ]
  },
  {
   "cell_type": "code",
   "execution_count": 33,
   "id": "844a5b48-4742-44e6-a84b-1355fe3331f5",
   "metadata": {},
   "outputs": [
    {
     "data": {
      "text/plain": [
       "('Dylan', 'Eggemeyer', 100, 106, 'Hello')"
      ]
     },
     "execution_count": 33,
     "metadata": {},
     "output_type": "execute_result"
    }
   ],
   "source": [
    "my_tuple += 106, 'Hello'\n",
    "my_tuple"
   ]
  },
  {
   "cell_type": "code",
   "execution_count": 34,
   "id": "2881f9c5-5646-4221-95b6-a782a4106208",
   "metadata": {},
   "outputs": [],
   "source": [
    "student_tuple = ('Amanda', [98, 85, 87])"
   ]
  },
  {
   "cell_type": "code",
   "execution_count": 36,
   "id": "e2157f0b-7238-4f3f-989a-d9a8ab9859a8",
   "metadata": {},
   "outputs": [
    {
     "name": "stdout",
     "output_type": "stream",
     "text": [
      "Amanda\n",
      "[98, 85, 87]\n"
     ]
    }
   ],
   "source": [
    "first_name, grades = student_tuple\n",
    "print(first_name)\n",
    "print(grades)"
   ]
  },
  {
   "cell_type": "code",
   "execution_count": 37,
   "id": "054b533f-41a1-416a-a4da-d30fe1dd297a",
   "metadata": {},
   "outputs": [
    {
     "name": "stdout",
     "output_type": "stream",
     "text": [
      "\n",
      "Creating a bar chart from numbers:\n",
      "Index   Value   Bar\n",
      "    0      19    *******************\n",
      "    1       3    ***\n",
      "    2      15    ***************\n",
      "    3       7    *******\n",
      "    4      11    ***********\n"
     ]
    }
   ],
   "source": [
    "numbers = [19, 3, 15, 7, 11]\n",
    "\n",
    "print('\\nCreating a bar chart from numbers:')\n",
    "print(f'Index{\"Value\":>8}   Bar')\n",
    "\n",
    "for index, value in enumerate(numbers):\n",
    "    print(f'{index:>5}{value:>8}    {\"*\" * value}')"
   ]
  },
  {
   "cell_type": "code",
   "execution_count": 38,
   "id": "ad7e2b43-bebd-4fa0-8535-b4c7227d05a9",
   "metadata": {},
   "outputs": [],
   "source": [
    "numbers = [2, 3, 5, 8, 5, 3, 0, 9, 45, 2]"
   ]
  },
  {
   "cell_type": "code",
   "execution_count": 39,
   "id": "f894e4d6-b769-4d86-bc92-3292f2ae627d",
   "metadata": {},
   "outputs": [
    {
     "data": {
      "text/plain": [
       "[2, 5, 5, 0, 45]"
      ]
     },
     "execution_count": 39,
     "metadata": {},
     "output_type": "execute_result"
    }
   ],
   "source": [
    "numbers[0:len(numbers):2]"
   ]
  },
  {
   "cell_type": "code",
   "execution_count": 41,
   "id": "fda31c7c-aabd-482f-9560-3bc7a2362016",
   "metadata": {},
   "outputs": [],
   "source": [
    "numbers[2:3] = 0, 0"
   ]
  },
  {
   "cell_type": "code",
   "execution_count": 42,
   "id": "a6099bf6-7618-4342-b6e3-0d03dcb135ff",
   "metadata": {},
   "outputs": [
    {
     "data": {
      "text/plain": [
       "[2, 3, 0, 0, 8, 5, 3, 0, 9, 45, 2]"
      ]
     },
     "execution_count": 42,
     "metadata": {},
     "output_type": "execute_result"
    }
   ],
   "source": [
    "numbers"
   ]
  },
  {
   "cell_type": "code",
   "execution_count": 43,
   "id": "936fc9f5-d9eb-4084-97e7-d5bc588c2d5b",
   "metadata": {},
   "outputs": [
    {
     "data": {
      "text/plain": [
       "[2, 3, 0, 0, 8]"
      ]
     },
     "execution_count": 43,
     "metadata": {},
     "output_type": "execute_result"
    }
   ],
   "source": [
    "numbers[:5]"
   ]
  },
  {
   "cell_type": "code",
   "execution_count": 46,
   "id": "96b10303-dc97-4063-9e79-b58ecf3f3717",
   "metadata": {},
   "outputs": [],
   "source": [
    "numbers[:] = []"
   ]
  },
  {
   "cell_type": "code",
   "execution_count": 47,
   "id": "161c0d70-fc83-4b69-b714-35319f6a0605",
   "metadata": {},
   "outputs": [
    {
     "data": {
      "text/plain": [
       "[]"
      ]
     },
     "execution_count": 47,
     "metadata": {},
     "output_type": "execute_result"
    }
   ],
   "source": [
    "numbers"
   ]
  },
  {
   "cell_type": "code",
   "execution_count": 57,
   "id": "4d56dde8-91a6-48be-b725-3067f87bbe97",
   "metadata": {},
   "outputs": [],
   "source": [
    "numbers = [2, 3, 5, 8, 5, 3, 0, 9, 45, 2]"
   ]
  },
  {
   "cell_type": "code",
   "execution_count": 58,
   "id": "1e808841-8934-42ad-86f7-e5f52a93f954",
   "metadata": {},
   "outputs": [],
   "source": [
    "del numbers[4:6]"
   ]
  },
  {
   "cell_type": "code",
   "execution_count": 59,
   "id": "0a0045d9-7fa2-436a-8ad6-7fc7c2e4ea93",
   "metadata": {},
   "outputs": [
    {
     "data": {
      "text/plain": [
       "[2, 3, 5, 8, 0, 9, 45, 2]"
      ]
     },
     "execution_count": 59,
     "metadata": {},
     "output_type": "execute_result"
    }
   ],
   "source": [
    "numbers"
   ]
  },
  {
   "cell_type": "code",
   "execution_count": 60,
   "id": "fd5e0b40-cdd5-45a7-a282-4aa65ca59f20",
   "metadata": {},
   "outputs": [],
   "source": [
    "def mod_list(items):\n",
    "    for i in range(len(items)):\n",
    "        items[i] += 50"
   ]
  },
  {
   "cell_type": "code",
   "execution_count": 61,
   "id": "c5ea9540-b6f7-435c-8d4e-4f95d689f8cb",
   "metadata": {},
   "outputs": [],
   "source": [
    "mod_list(numbers)"
   ]
  },
  {
   "cell_type": "code",
   "execution_count": 62,
   "id": "448f54df-09bc-415d-8dc1-8a206cb8aa66",
   "metadata": {},
   "outputs": [
    {
     "data": {
      "text/plain": [
       "[52, 53, 55, 58, 50, 59, 95, 52]"
      ]
     },
     "execution_count": 62,
     "metadata": {},
     "output_type": "execute_result"
    }
   ],
   "source": [
    "numbers"
   ]
  },
  {
   "cell_type": "code",
   "execution_count": 63,
   "id": "2afaa7e5-9da1-4634-8062-77f03c1dcf8c",
   "metadata": {},
   "outputs": [],
   "source": [
    "numbers.sort()"
   ]
  },
  {
   "cell_type": "code",
   "execution_count": 64,
   "id": "4e1090e3-c3f9-4461-8686-db9f053252ac",
   "metadata": {},
   "outputs": [
    {
     "data": {
      "text/plain": [
       "[50, 52, 52, 53, 55, 58, 59, 95]"
      ]
     },
     "execution_count": 64,
     "metadata": {},
     "output_type": "execute_result"
    }
   ],
   "source": [
    "numbers"
   ]
  },
  {
   "cell_type": "code",
   "execution_count": 65,
   "id": "3e7033d1-abd5-49a5-925e-cf01088a6448",
   "metadata": {},
   "outputs": [],
   "source": [
    "numbers.sort(reverse=True)"
   ]
  },
  {
   "cell_type": "code",
   "execution_count": 66,
   "id": "d5f5f4fe-60ea-4881-8444-64e2020f269f",
   "metadata": {},
   "outputs": [
    {
     "data": {
      "text/plain": [
       "[95, 59, 58, 55, 53, 52, 52, 50]"
      ]
     },
     "execution_count": 66,
     "metadata": {},
     "output_type": "execute_result"
    }
   ],
   "source": [
    "numbers"
   ]
  },
  {
   "cell_type": "code",
   "execution_count": 67,
   "id": "a7be0c5c-7ee3-4262-9bb9-a2282dff813a",
   "metadata": {},
   "outputs": [],
   "source": [
    "foods = ['Cookies', 'pizza', 'Grapes', 'apples', 'steak', 'Bacon']"
   ]
  },
  {
   "cell_type": "code",
   "execution_count": 69,
   "id": "53dd59e6-1402-49b8-b615-2e44f91705d5",
   "metadata": {},
   "outputs": [
    {
     "data": {
      "text/plain": [
       "['Bacon', 'Cookies', 'Grapes', 'apples', 'pizza', 'steak']"
      ]
     },
     "execution_count": 69,
     "metadata": {},
     "output_type": "execute_result"
    }
   ],
   "source": [
    "foods.sort()\n",
    "foods"
   ]
  },
  {
   "cell_type": "code",
   "execution_count": 70,
   "id": "ecd8b1e8-c384-47f1-80a7-507ac3dd70fc",
   "metadata": {},
   "outputs": [],
   "source": [
    "numbers = [3, 7, 1, 4, 2, 8, 5, 6]"
   ]
  },
  {
   "cell_type": "code",
   "execution_count": 71,
   "id": "0fcf6a0b-26ed-48ad-80f8-3539a44c3eac",
   "metadata": {},
   "outputs": [
    {
     "data": {
      "text/plain": [
       "6"
      ]
     },
     "execution_count": 71,
     "metadata": {},
     "output_type": "execute_result"
    }
   ],
   "source": [
    "numbers.index(5)"
   ]
  },
  {
   "cell_type": "code",
   "execution_count": 72,
   "id": "7e38dd96-4029-4d2c-9ba8-cc6f9bfb2231",
   "metadata": {},
   "outputs": [
    {
     "data": {
      "text/plain": [
       "[3, 7, 1, 4, 2, 8, 5, 6, 3, 7, 1, 4, 2, 8, 5, 6]"
      ]
     },
     "execution_count": 72,
     "metadata": {},
     "output_type": "execute_result"
    }
   ],
   "source": [
    "numbers *= 2\n",
    "numbers"
   ]
  },
  {
   "cell_type": "code",
   "execution_count": 73,
   "id": "ea6735c7-3993-446c-8766-60b10c5cf9dd",
   "metadata": {},
   "outputs": [
    {
     "data": {
      "text/plain": [
       "14"
      ]
     },
     "execution_count": 73,
     "metadata": {},
     "output_type": "execute_result"
    }
   ],
   "source": [
    "numbers.index(5, 7)"
   ]
  },
  {
   "cell_type": "code",
   "execution_count": 74,
   "id": "5220157c-25cc-4274-9e14-5b361cd74cfd",
   "metadata": {},
   "outputs": [
    {
     "data": {
      "text/plain": [
       "1"
      ]
     },
     "execution_count": 74,
     "metadata": {},
     "output_type": "execute_result"
    }
   ],
   "source": [
    "numbers.index(7, 0, 4)"
   ]
  },
  {
   "cell_type": "code",
   "execution_count": 75,
   "id": "bcfe0dbb-a811-4172-91bc-1f976b5cf139",
   "metadata": {},
   "outputs": [
    {
     "data": {
      "text/plain": [
       "False"
      ]
     },
     "execution_count": 75,
     "metadata": {},
     "output_type": "execute_result"
    }
   ],
   "source": [
    "1000 in numbers"
   ]
  },
  {
   "cell_type": "code",
   "execution_count": 76,
   "id": "cfa68b08-74b8-48e1-9ef1-071b50954530",
   "metadata": {},
   "outputs": [
    {
     "data": {
      "text/plain": [
       "True"
      ]
     },
     "execution_count": 76,
     "metadata": {},
     "output_type": "execute_result"
    }
   ],
   "source": [
    "5 in numbers"
   ]
  },
  {
   "cell_type": "code",
   "execution_count": 77,
   "id": "bfc7d536-7164-4f24-bd59-87674c35d0d9",
   "metadata": {},
   "outputs": [
    {
     "data": {
      "text/plain": [
       "True"
      ]
     },
     "execution_count": 77,
     "metadata": {},
     "output_type": "execute_result"
    }
   ],
   "source": [
    "1000 not in numbers"
   ]
  },
  {
   "cell_type": "code",
   "execution_count": 78,
   "id": "8cdd23e2-9a09-4aba-9519-52b358106cbc",
   "metadata": {},
   "outputs": [
    {
     "data": {
      "text/plain": [
       "False"
      ]
     },
     "execution_count": 78,
     "metadata": {},
     "output_type": "execute_result"
    }
   ],
   "source": [
    "5 not in numbers"
   ]
  },
  {
   "cell_type": "code",
   "execution_count": 82,
   "id": "2ed990f2-cfaa-4f40-9586-65c04cef4fa6",
   "metadata": {},
   "outputs": [
    {
     "data": {
      "text/plain": [
       "False"
      ]
     },
     "execution_count": 82,
     "metadata": {},
     "output_type": "execute_result"
    }
   ],
   "source": [
    "any([x < 0 for x in numbers])"
   ]
  },
  {
   "cell_type": "code",
   "execution_count": 84,
   "id": "d1fd9607-4d83-446b-944f-b68acc98c230",
   "metadata": {},
   "outputs": [
    {
     "data": {
      "text/plain": [
       "True"
      ]
     },
     "execution_count": 84,
     "metadata": {},
     "output_type": "execute_result"
    }
   ],
   "source": [
    "all([x >= 0 for x in numbers])"
   ]
  },
  {
   "cell_type": "code",
   "execution_count": 88,
   "id": "e87e3358-1e41-4146-8974-29ed9ce95245",
   "metadata": {},
   "outputs": [
    {
     "name": "stdout",
     "output_type": "stream",
     "text": [
      "[40, 41, 42, 43, 44, 45, 46, 47, 48, 49, 50, 51, 52, 53, 54, 55, 56, 57, 58, 59] "
     ]
    }
   ],
   "source": [
    "comp_list = [item for item in range(40,60)]\n",
    "print(comp_list,end=' ')"
   ]
  },
  {
   "cell_type": "code",
   "execution_count": 90,
   "id": "e311bfd8-20d4-4131-b40a-10e0bd7c1752",
   "metadata": {},
   "outputs": [
    {
     "data": {
      "text/plain": [
       "[3, 7, 1, 9, 5]"
      ]
     },
     "execution_count": 90,
     "metadata": {},
     "output_type": "execute_result"
    }
   ],
   "source": [
    "numbers = [10, 3, 7, 1, 9, 4, 2, 8, 5, 6]\n",
    "\n",
    "def is_odd(x):\n",
    "    return x % 2 != 0\n",
    "\n",
    "list(filter(is_odd,numbers))"
   ]
  },
  {
   "cell_type": "code",
   "execution_count": 92,
   "id": "67b13d82-54e0-4e98-b64e-f72bf9023d3c",
   "metadata": {},
   "outputs": [
    {
     "data": {
      "text/plain": [
       "[3, 7, 1, 9, 5]"
      ]
     },
     "execution_count": 92,
     "metadata": {},
     "output_type": "execute_result"
    }
   ],
   "source": [
    "[item for item in numbers if is_odd(item)]"
   ]
  },
  {
   "cell_type": "code",
   "execution_count": 93,
   "id": "9f11a9d6-e4cd-434c-816d-2af57923ed41",
   "metadata": {},
   "outputs": [
    {
     "data": {
      "text/plain": [
       "[3, 7, 1, 9, 5]"
      ]
     },
     "execution_count": 93,
     "metadata": {},
     "output_type": "execute_result"
    }
   ],
   "source": [
    "list(filter(lambda x: x% 2 != 0, numbers))"
   ]
  },
  {
   "cell_type": "code",
   "execution_count": 94,
   "id": "6fa0fa9e-ad06-4a1f-b7e4-fc640e0f8e6d",
   "metadata": {},
   "outputs": [
    {
     "data": {
      "text/plain": [
       "[100, 9, 49, 1, 81, 16, 4, 64, 25, 36]"
      ]
     },
     "execution_count": 94,
     "metadata": {},
     "output_type": "execute_result"
    }
   ],
   "source": [
    "list(map(lambda x: x ** 2, numbers))"
   ]
  },
  {
   "cell_type": "code",
   "execution_count": 96,
   "id": "7d41dc3c-3ad3-426d-8009-00177f8ba890",
   "metadata": {},
   "outputs": [
    {
     "data": {
      "text/plain": [
       "[9, 49, 1, 81, 25]"
      ]
     },
     "execution_count": 96,
     "metadata": {},
     "output_type": "execute_result"
    }
   ],
   "source": [
    "list(map(lambda x: x **2,\n",
    "         filter(lambda x: x % 2 != 0, numbers)))"
   ]
  },
  {
   "cell_type": "code",
   "execution_count": 97,
   "id": "d4a89438-4ba6-44c8-8ad6-bc38517d5089",
   "metadata": {},
   "outputs": [
    {
     "name": "stdout",
     "output_type": "stream",
     "text": [
      "77 68 86 73 \n",
      "96 87 89 81 \n",
      "70 90 86 81 \n"
     ]
    }
   ],
   "source": [
    "a = [[77, 68, 86, 73], [96, 87, 89, 81], [70, 90, 86, 81]]\n",
    "\n",
    "for row in a:\n",
    "    for item in row:\n",
    "        print(item,end=' ')\n",
    "    print()"
   ]
  },
  {
   "cell_type": "code",
   "execution_count": 99,
   "id": "ed11ee4f-5468-4791-8256-bd2fdbce341e",
   "metadata": {},
   "outputs": [
    {
     "name": "stdout",
     "output_type": "stream",
     "text": [
      "a[0][0]=77  a[0][1]=68  a[0][2]=86  a[0][3]=73  \n",
      "a[1][0]=96  a[1][1]=87  a[1][2]=89  a[1][3]=81  \n",
      "a[2][0]=70  a[2][1]=90  a[2][2]=86  a[2][3]=81  \n"
     ]
    }
   ],
   "source": [
    "for i, row in enumerate(a):\n",
    "    for j, item in enumerate(row):\n",
    "        print(f'a[{i}][{j}]={item} ', end=' ')\n",
    "    print()"
   ]
  },
  {
   "cell_type": "code",
   "execution_count": null,
   "id": "061114c5-58b7-4bb0-8166-f570827d31cd",
   "metadata": {},
   "outputs": [],
   "source": []
  }
 ],
 "metadata": {
  "kernelspec": {
   "display_name": "Python 3",
   "language": "python",
   "name": "python3"
  },
  "language_info": {
   "codemirror_mode": {
    "name": "ipython",
    "version": 3
   },
   "file_extension": ".py",
   "mimetype": "text/x-python",
   "name": "python",
   "nbconvert_exporter": "python",
   "pygments_lexer": "ipython3",
   "version": "3.8.11"
  }
 },
 "nbformat": 4,
 "nbformat_minor": 5
}
